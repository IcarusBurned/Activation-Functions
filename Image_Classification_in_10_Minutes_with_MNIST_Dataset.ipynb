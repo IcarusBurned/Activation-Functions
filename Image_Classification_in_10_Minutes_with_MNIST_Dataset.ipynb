{
  "nbformat": 4,
  "nbformat_minor": 0,
  "metadata": {
    "colab": {
      "name": "Image Classification in 10 Minutes with MNIST Dataset ",
      "version": "0.3.2",
      "provenance": [],
      "collapsed_sections": [],
      "toc_visible": true,
      "include_colab_link": true
    },
    "kernelspec": {
      "name": "python3",
      "display_name": "Python 3"
    },
    "accelerator": "GPU"
  },
  "cells": [
    {
      "cell_type": "markdown",
      "metadata": {
        "id": "view-in-github",
        "colab_type": "text"
      },
      "source": [
        "<a href=\"https://colab.research.google.com/github/IcarusBurned/Activation-Functions/blob/master/Image_Classification_in_10_Minutes_with_MNIST_Dataset.ipynb\" target=\"_parent\"><img src=\"https://colab.research.google.com/assets/colab-badge.svg\" alt=\"Open In Colab\"/></a>"
      ]
    },
    {
      "metadata": {
        "id": "hee6VjKqIJ3L",
        "colab_type": "code",
        "colab": {}
      },
      "cell_type": "code",
      "source": [
        "import tensorflow as tf\n",
        "import numpy as np\n",
        "import math\n",
        "import csv\n",
        "from sklearn import metrics\n",
        "from matplotlib import pyplot\n",
        "from google.colab import files"
      ],
      "execution_count": 0,
      "outputs": []
    },
    {
      "metadata": {
        "id": "ugnATZNhLgOR",
        "colab_type": "code",
        "colab": {}
      },
      "cell_type": "code",
      "source": [
        "UseMnist = True\n",
        "image_size = 28"
      ],
      "execution_count": 0,
      "outputs": []
    },
    {
      "metadata": {
        "id": "RKtwMvvsj_zp",
        "colab_type": "code",
        "colab": {
          "base_uri": "https://localhost:8080/",
          "height": 71
        },
        "outputId": "8d458cb4-cfa3-470a-e12b-4fa5020a8387"
      },
      "cell_type": "code",
      "source": [
        "#load my data set\n",
        "def load_dataset(s=\"data\"):\n",
        "    with open('C_train_data.txt') as csv_train_file:\n",
        "           X_train = np.array(list(csv.reader(csv_train_file, delimiter = ','))).astype(\"float\")  \n",
        "    with open('F_train_label.txt') as csv_trainl_file:\n",
        "           labels_train = np.array(list(csv.reader(csv_trainl_file, delimiter = ','))).astype(\"uint\")  \n",
        "    with open('C_test_data.txt') as csv_test_file:\n",
        "           X_test = np.array(list(csv.reader(csv_test_file, delimiter = ','))).astype(\"float\")\n",
        "    with open('F_test_label.txt') as csv_testl_file:\n",
        "           labels_test = np.array(list(csv.reader(csv_testl_file, delimiter = ','))).astype(\"uint\")  \n",
        "    X_train = X_train/X_train.max()\n",
        "    X_test = X_test/X_test.max()\n",
        "    #shuffle the training arrays, not sure if this matters\n",
        "    s = np.arange(0, len(X_train), 1)\n",
        "    np.random.shuffle(s)\n",
        "    X_train = X_train[s]\n",
        "    labels_train = labels_train[s]\n",
        "    return (X_train, labels_train), (X_test, labels_test)\n",
        "  \n",
        "  \n",
        "if(UseMnist):\n",
        "  #load standard MNIST data set\n",
        "  (x_train, y_train), (x_test, y_test) = tf.keras.datasets.mnist.load_data()\n",
        "else:\n",
        "  (x_train, y_train), (x_test, y_test) = load_dataset()\n",
        " "
      ],
      "execution_count": 3,
      "outputs": [
        {
          "output_type": "stream",
          "text": [
            "Downloading data from https://storage.googleapis.com/tensorflow/tf-keras-datasets/mnist.npz\n",
            "11493376/11490434 [==============================] - 0s 0us/step\n"
          ],
          "name": "stdout"
        }
      ]
    },
    {
      "metadata": {
        "id": "FByqn1cTzKxS",
        "colab_type": "code",
        "colab": {}
      },
      "cell_type": "code",
      "source": [
        "if(False == UseMnist):\n",
        "  col = np.zeros((60000,3))\n",
        "  x_train = np.hstack((x_train, col))\n",
        "  tcol = np.zeros((10000, 3))\n",
        "  x_test = np.hstack((x_test, tcol))\n",
        "  x_train = x_train.reshape(x_train.shape[0], image_size, image_size)\n",
        "  x_test = x_test.reshape(x_test.shape[0], image_size, image_size)\n"
      ],
      "execution_count": 0,
      "outputs": []
    },
    {
      "metadata": {
        "id": "nBzpxy7iVoQe",
        "colab_type": "text"
      },
      "cell_type": "markdown",
      "source": [
        "## Image Classification in 10 Minutes with MNIST Dataset, adapted from Orhan Gazi Yalzin"
      ]
    },
    {
      "metadata": {
        "id": "bTEIbr4BIiSa",
        "colab_type": "code",
        "outputId": "5cd3c6d6-3212-402d-a417-b0298625e28f",
        "colab": {
          "base_uri": "https://localhost:8080/",
          "height": 354
        }
      },
      "cell_type": "code",
      "source": [
        "import matplotlib.pyplot as plt\n",
        "%matplotlib inline \n",
        "# Only use this if using iPython\n",
        "i = 1000 # You may select anything up to 60,000\n",
        "yo = x_train[i].reshape(image_size, image_size)\n",
        "print(y_train[i])\n",
        "plt.figure(figsize=(5, 5))\n",
        "plt.imshow(yo, cmap = 'gray')"
      ],
      "execution_count": 5,
      "outputs": [
        {
          "output_type": "stream",
          "text": [
            "0\n"
          ],
          "name": "stdout"
        },
        {
          "output_type": "execute_result",
          "data": {
            "text/plain": [
              "<matplotlib.image.AxesImage at 0x7fd76fd7f518>"
            ]
          },
          "metadata": {
            "tags": []
          },
          "execution_count": 5
        },
        {
          "output_type": "display_data",
          "data": {
            "image/png": "[encoded data removed]",
            "text/plain": [
              "<Figure size 360x360 with 1 Axes>"
            ]
          },
          "metadata": {
            "tags": []
          }
        }
      ]
    },
    {
      "metadata": {
        "id": "hDyGpakufKAU",
        "colab_type": "code",
        "colab": {}
      },
      "cell_type": "code",
      "source": [
        "PIx2 = 2.0*tf.constant(math.pi)\n",
        "PI = tf.constant(math.pi)\n",
        "off = 0.5\n",
        "\n",
        "inhib = 0\n",
        "\n",
        "def ReLU(x):\n",
        "  return tf.maximum(0.0, x)\n",
        "\n",
        "def xsinxRelu(x):\n",
        "  return tf.maximum(0.0,1.0/PIx2*(PIx2*(x+.75) - tf.sin(PIx2*(x+.75))))\n",
        "\n",
        "def expxsinxRelu(x):\n",
        "  s = 1.0\n",
        "  return tf.maximum(0.0,1.0/PIx2*(PIx2*(x+1) - tf.exp(-s*tf.square((x+1)))* tf.sin(PIx2*(x+1))))\n",
        "\n",
        "def xsinxRelu2(x):\n",
        "  return tf.maximum(0.0,1.0/PIx2*(PIx2*(x+.5) - tf.sin(PIx2*(x+.5)))) - 0.5\n",
        "\n",
        "def expxsinxRelu2(x):\n",
        "  s = 1.0\n",
        "  return tf.maximum(0.0,1.0/PIx2*(PIx2*(x+1) - tf.exp(-s*tf.square((x+1)))* tf.sin(PIx2*(x+1)))) - 0.5\n",
        "\n",
        "def xsinxSigmoid(x):\n",
        "  y = tf.minimum(1.0, tf.maximum(0.0,1.0/(PIx2)*((x + PI) - tf.sin((x + PI)))))\n",
        "  return y / tf.reduce_sum(y)\n",
        "\n",
        "def lisht(x):\n",
        "  return x*(tf.exp(x) - tf.exp(-x))/(tf.exp(x) + tf.exp(-x))\n",
        "\n",
        "def swish(x):\n",
        "  return x*tf.exp(x)/(tf.exp(x) + 1)\n",
        "\n"
      ],
      "execution_count": 0,
      "outputs": []
    },
    {
      "metadata": {
        "id": "O0WVCJiSRZ2Q",
        "colab_type": "code",
        "outputId": "49460dfb-8f6f-423c-abc4-9a0668c65b71",
        "colab": {
          "base_uri": "https://localhost:8080/",
          "height": 34
        }
      },
      "cell_type": "code",
      "source": [
        "x_train.shape"
      ],
      "execution_count": 7,
      "outputs": [
        {
          "output_type": "execute_result",
          "data": {
            "text/plain": [
              "(60000, 28, 28)"
            ]
          },
          "metadata": {
            "tags": []
          },
          "execution_count": 7
        }
      ]
    },
    {
      "metadata": {
        "id": "wSwx2nXDpDcg",
        "colab_type": "code",
        "outputId": "0bc71216-d4f6-408d-a9b2-172ae8cd0741",
        "colab": {
          "base_uri": "https://localhost:8080/",
          "height": 68
        }
      },
      "cell_type": "code",
      "source": [
        "# Reshaping the array to 4-dims so that it can work with the Keras API\n",
        "x_train = x_train.reshape(x_train.shape[0], image_size, image_size, 1)\n",
        "x_test = x_test.reshape(x_test.shape[0], image_size, image_size, 1)\n",
        "input_shape = (image_size, image_size, 1)\n",
        "# Making sure that the values are float so that we can get decimal points after division\n",
        "x_train = x_train.astype('float32')\n",
        "x_test = x_test.astype('float32')\n",
        "# Normalizing the RGB codes by dividing it to the max RGB value.\n",
        "print('x_train shape:', x_train.shape)\n",
        "print('Number of images in x_train', x_train.shape[0])\n",
        "print('Number of images in x_test', x_test.shape[0])\n",
        "\n",
        "if(UseMnist):\n",
        "  x_train = x_train/255\n",
        "  x_test = x_test/255"
      ],
      "execution_count": 8,
      "outputs": [
        {
          "output_type": "stream",
          "text": [
            "x_train shape: (60000, 28, 28, 1)\n",
            "Number of images in x_train 60000\n",
            "Number of images in x_test 10000\n"
          ],
          "name": "stdout"
        }
      ]
    },
    {
      "metadata": {
        "id": "oy7qKLQO8ZbE",
        "colab_type": "code",
        "colab": {}
      },
      "cell_type": "code",
      "source": [
        "#some variables for collecting history of various activation functions\n",
        "H = []\n",
        "TR = []\n",
        "RELU = 0\n",
        "XSINX = 1\n",
        "EXSINX = 2\n",
        "SWISH = 3\n",
        "LISHT = 4\n",
        "\n",
        "funcs = {0:ReLU, 1:xsinxRelu, 2:expxsinxRelu, 3:swish, 4:lisht, 5:xsinxRelu2, 6:expxsinxRelu2}\n",
        "names = {0:\"ReLU\", 1:\"xsinxRelu\", 2:\"expxsinxRelu\", 3:\"swish\", 4:\"lisht\", 5:\"xsinxRelu2\", 6:\"expxsinxRelu2\"}"
      ],
      "execution_count": 0,
      "outputs": []
    },
    {
      "metadata": {
        "id": "hFDAPnRESwuW",
        "colab_type": "code",
        "outputId": "8238979c-155b-411d-86c0-0bdb950c9371",
        "colab": {
          "base_uri": "https://localhost:8080/",
          "height": 864
        }
      },
      "cell_type": "code",
      "source": [
        "\n",
        "from keras.models import Sequential\n",
        "from keras.layers import Dense, Conv2D, Dropout, Flatten, MaxPooling2D\n",
        "  \n",
        "k = 0\n",
        "#for k in range(7):\n",
        "print(names[k])\n",
        "# Importing the required Keras modules containing model and layers\n",
        "# Creating a Sequential Model and adding the layers\n",
        "model = Sequential()\n",
        "model.add(Conv2D(image_size, kernel_size=(4,4), input_shape=input_shape, padding = 'same'))\n",
        "model.add(MaxPooling2D(pool_size=(4,4)))\n",
        "model.add(Flatten()) # Flattening the 2D arrays for fully connected layers\n",
        "#Use 196 for my data  \n",
        "model.add(Dense(128, activation=funcs[k]))\n",
        "#model.add(Dense(128, activation=tf.nn.relu))\n",
        "#model.add(Dense(128, activation = xsinxRelu))\n",
        "#model.add(Dense(128, activation = expxsinxRelu))\n",
        "#model.add(Dense(128, activation = swish))\n",
        "#model.add(Dense(128, activation = lisht))\n",
        "model.add(Dropout(0.2))\n",
        "model.add(Dense(10,activation=tf.nn.softmax))\n",
        "#model.add(Dense(10,activation=xsinxSigmoid))\n",
        "\n",
        "model.compile(optimizer='adam', \n",
        "            loss='sparse_categorical_crossentropy', \n",
        "            metrics=['accuracy'])\n",
        "#for i in range(30):\n",
        "H.append(model.fit(x=x_train,y=y_train, epochs=30, verbose = 0))\n",
        "t = (model.evaluate(x_test, y_test))\n",
        "TR.append(t)\n",
        "print(t)"
      ],
      "execution_count": 16,
      "outputs": [
        {
          "output_type": "stream",
          "text": [
            "ReLU\n"
          ],
          "name": "stdout"
        },
        {
          "output_type": "error",
          "ename": "KeyboardInterrupt",
          "evalue": "ignored",
          "traceback": [
            "\u001b[0;31m---------------------------------------------------------------------------\u001b[0m",
            "\u001b[0;31mKeyboardInterrupt\u001b[0m                         Traceback (most recent call last)",
            "\u001b[0;32m<ipython-input-16-f642734cfaa0>\u001b[0m in \u001b[0;36m<module>\u001b[0;34m()\u001b[0m\n\u001b[1;32m     27\u001b[0m             metrics=['accuracy'])\n\u001b[1;32m     28\u001b[0m \u001b[0;31m#for i in range(30):\u001b[0m\u001b[0;34m\u001b[0m\u001b[0;34m\u001b[0m\u001b[0;34m\u001b[0m\u001b[0m\n\u001b[0;32m---> 29\u001b[0;31m \u001b[0mH\u001b[0m\u001b[0;34m.\u001b[0m\u001b[0mappend\u001b[0m\u001b[0;34m(\u001b[0m\u001b[0mmodel\u001b[0m\u001b[0;34m.\u001b[0m\u001b[0mfit\u001b[0m\u001b[0;34m(\u001b[0m\u001b[0mx\u001b[0m\u001b[0;34m=\u001b[0m\u001b[0mx_train\u001b[0m\u001b[0;34m,\u001b[0m\u001b[0my\u001b[0m\u001b[0;34m=\u001b[0m\u001b[0my_train\u001b[0m\u001b[0;34m,\u001b[0m \u001b[0mepochs\u001b[0m\u001b[0;34m=\u001b[0m\u001b[0;36m30\u001b[0m\u001b[0;34m,\u001b[0m \u001b[0mverbose\u001b[0m \u001b[0;34m=\u001b[0m \u001b[0;36m0\u001b[0m\u001b[0;34m)\u001b[0m\u001b[0;34m)\u001b[0m\u001b[0;34m\u001b[0m\u001b[0;34m\u001b[0m\u001b[0m\n\u001b[0m\u001b[1;32m     30\u001b[0m \u001b[0mt\u001b[0m \u001b[0;34m=\u001b[0m \u001b[0;34m(\u001b[0m\u001b[0mmodel\u001b[0m\u001b[0;34m.\u001b[0m\u001b[0mevaluate\u001b[0m\u001b[0;34m(\u001b[0m\u001b[0mx_test\u001b[0m\u001b[0;34m,\u001b[0m \u001b[0my_test\u001b[0m\u001b[0;34m)\u001b[0m\u001b[0;34m)\u001b[0m\u001b[0;34m\u001b[0m\u001b[0;34m\u001b[0m\u001b[0m\n\u001b[1;32m     31\u001b[0m \u001b[0mTR\u001b[0m\u001b[0;34m.\u001b[0m\u001b[0mappend\u001b[0m\u001b[0;34m(\u001b[0m\u001b[0mt\u001b[0m\u001b[0;34m)\u001b[0m\u001b[0;34m\u001b[0m\u001b[0;34m\u001b[0m\u001b[0m\n",
            "\u001b[0;32m/usr/local/lib/python3.6/dist-packages/keras/engine/training.py\u001b[0m in \u001b[0;36mfit\u001b[0;34m(self, x, y, batch_size, epochs, verbose, callbacks, validation_split, validation_data, shuffle, class_weight, sample_weight, initial_epoch, steps_per_epoch, validation_steps, **kwargs)\u001b[0m\n\u001b[1;32m   1037\u001b[0m                                         \u001b[0minitial_epoch\u001b[0m\u001b[0;34m=\u001b[0m\u001b[0minitial_epoch\u001b[0m\u001b[0;34m,\u001b[0m\u001b[0;34m\u001b[0m\u001b[0;34m\u001b[0m\u001b[0m\n\u001b[1;32m   1038\u001b[0m                                         \u001b[0msteps_per_epoch\u001b[0m\u001b[0;34m=\u001b[0m\u001b[0msteps_per_epoch\u001b[0m\u001b[0;34m,\u001b[0m\u001b[0;34m\u001b[0m\u001b[0;34m\u001b[0m\u001b[0m\n\u001b[0;32m-> 1039\u001b[0;31m                                         validation_steps=validation_steps)\n\u001b[0m\u001b[1;32m   1040\u001b[0m \u001b[0;34m\u001b[0m\u001b[0m\n\u001b[1;32m   1041\u001b[0m     def evaluate(self, x=None, y=None,\n",
            "\u001b[0;32m/usr/local/lib/python3.6/dist-packages/keras/engine/training_arrays.py\u001b[0m in \u001b[0;36mfit_loop\u001b[0;34m(model, f, ins, out_labels, batch_size, epochs, verbose, callbacks, val_f, val_ins, shuffle, callback_metrics, initial_epoch, steps_per_epoch, validation_steps)\u001b[0m\n\u001b[1;32m    197\u001b[0m                     \u001b[0mins_batch\u001b[0m\u001b[0;34m[\u001b[0m\u001b[0mi\u001b[0m\u001b[0;34m]\u001b[0m \u001b[0;34m=\u001b[0m \u001b[0mins_batch\u001b[0m\u001b[0;34m[\u001b[0m\u001b[0mi\u001b[0m\u001b[0;34m]\u001b[0m\u001b[0;34m.\u001b[0m\u001b[0mtoarray\u001b[0m\u001b[0;34m(\u001b[0m\u001b[0;34m)\u001b[0m\u001b[0;34m\u001b[0m\u001b[0;34m\u001b[0m\u001b[0m\n\u001b[1;32m    198\u001b[0m \u001b[0;34m\u001b[0m\u001b[0m\n\u001b[0;32m--> 199\u001b[0;31m                 \u001b[0mouts\u001b[0m \u001b[0;34m=\u001b[0m \u001b[0mf\u001b[0m\u001b[0;34m(\u001b[0m\u001b[0mins_batch\u001b[0m\u001b[0;34m)\u001b[0m\u001b[0;34m\u001b[0m\u001b[0;34m\u001b[0m\u001b[0m\n\u001b[0m\u001b[1;32m    200\u001b[0m                 \u001b[0mouts\u001b[0m \u001b[0;34m=\u001b[0m \u001b[0mto_list\u001b[0m\u001b[0;34m(\u001b[0m\u001b[0mouts\u001b[0m\u001b[0;34m)\u001b[0m\u001b[0;34m\u001b[0m\u001b[0;34m\u001b[0m\u001b[0m\n\u001b[1;32m    201\u001b[0m                 \u001b[0;32mfor\u001b[0m \u001b[0ml\u001b[0m\u001b[0;34m,\u001b[0m \u001b[0mo\u001b[0m \u001b[0;32min\u001b[0m \u001b[0mzip\u001b[0m\u001b[0;34m(\u001b[0m\u001b[0mout_labels\u001b[0m\u001b[0;34m,\u001b[0m \u001b[0mouts\u001b[0m\u001b[0;34m)\u001b[0m\u001b[0;34m:\u001b[0m\u001b[0;34m\u001b[0m\u001b[0;34m\u001b[0m\u001b[0m\n",
            "\u001b[0;32m/usr/local/lib/python3.6/dist-packages/keras/backend/tensorflow_backend.py\u001b[0m in \u001b[0;36m__call__\u001b[0;34m(self, inputs)\u001b[0m\n\u001b[1;32m   2713\u001b[0m                 \u001b[0;32mreturn\u001b[0m \u001b[0mself\u001b[0m\u001b[0;34m.\u001b[0m\u001b[0m_legacy_call\u001b[0m\u001b[0;34m(\u001b[0m\u001b[0minputs\u001b[0m\u001b[0;34m)\u001b[0m\u001b[0;34m\u001b[0m\u001b[0;34m\u001b[0m\u001b[0m\n\u001b[1;32m   2714\u001b[0m \u001b[0;34m\u001b[0m\u001b[0m\n\u001b[0;32m-> 2715\u001b[0;31m             \u001b[0;32mreturn\u001b[0m \u001b[0mself\u001b[0m\u001b[0;34m.\u001b[0m\u001b[0m_call\u001b[0m\u001b[0;34m(\u001b[0m\u001b[0minputs\u001b[0m\u001b[0;34m)\u001b[0m\u001b[0;34m\u001b[0m\u001b[0;34m\u001b[0m\u001b[0m\n\u001b[0m\u001b[1;32m   2716\u001b[0m         \u001b[0;32melse\u001b[0m\u001b[0;34m:\u001b[0m\u001b[0;34m\u001b[0m\u001b[0;34m\u001b[0m\u001b[0m\n\u001b[1;32m   2717\u001b[0m             \u001b[0;32mif\u001b[0m \u001b[0mpy_any\u001b[0m\u001b[0;34m(\u001b[0m\u001b[0mis_tensor\u001b[0m\u001b[0;34m(\u001b[0m\u001b[0mx\u001b[0m\u001b[0;34m)\u001b[0m \u001b[0;32mfor\u001b[0m \u001b[0mx\u001b[0m \u001b[0;32min\u001b[0m \u001b[0minputs\u001b[0m\u001b[0;34m)\u001b[0m\u001b[0;34m:\u001b[0m\u001b[0;34m\u001b[0m\u001b[0;34m\u001b[0m\u001b[0m\n",
            "\u001b[0;32m/usr/local/lib/python3.6/dist-packages/keras/backend/tensorflow_backend.py\u001b[0m in \u001b[0;36m_call\u001b[0;34m(self, inputs)\u001b[0m\n\u001b[1;32m   2673\u001b[0m             \u001b[0mfetched\u001b[0m \u001b[0;34m=\u001b[0m \u001b[0mself\u001b[0m\u001b[0;34m.\u001b[0m\u001b[0m_callable_fn\u001b[0m\u001b[0;34m(\u001b[0m\u001b[0;34m*\u001b[0m\u001b[0marray_vals\u001b[0m\u001b[0;34m,\u001b[0m \u001b[0mrun_metadata\u001b[0m\u001b[0;34m=\u001b[0m\u001b[0mself\u001b[0m\u001b[0;34m.\u001b[0m\u001b[0mrun_metadata\u001b[0m\u001b[0;34m)\u001b[0m\u001b[0;34m\u001b[0m\u001b[0;34m\u001b[0m\u001b[0m\n\u001b[1;32m   2674\u001b[0m         \u001b[0;32melse\u001b[0m\u001b[0;34m:\u001b[0m\u001b[0;34m\u001b[0m\u001b[0;34m\u001b[0m\u001b[0m\n\u001b[0;32m-> 2675\u001b[0;31m             \u001b[0mfetched\u001b[0m \u001b[0;34m=\u001b[0m \u001b[0mself\u001b[0m\u001b[0;34m.\u001b[0m\u001b[0m_callable_fn\u001b[0m\u001b[0;34m(\u001b[0m\u001b[0;34m*\u001b[0m\u001b[0marray_vals\u001b[0m\u001b[0;34m)\u001b[0m\u001b[0;34m\u001b[0m\u001b[0;34m\u001b[0m\u001b[0m\n\u001b[0m\u001b[1;32m   2676\u001b[0m         \u001b[0;32mreturn\u001b[0m \u001b[0mfetched\u001b[0m\u001b[0;34m[\u001b[0m\u001b[0;34m:\u001b[0m\u001b[0mlen\u001b[0m\u001b[0;34m(\u001b[0m\u001b[0mself\u001b[0m\u001b[0;34m.\u001b[0m\u001b[0moutputs\u001b[0m\u001b[0;34m)\u001b[0m\u001b[0;34m]\u001b[0m\u001b[0;34m\u001b[0m\u001b[0;34m\u001b[0m\u001b[0m\n\u001b[1;32m   2677\u001b[0m \u001b[0;34m\u001b[0m\u001b[0m\n",
            "\u001b[0;32m/usr/local/lib/python3.6/dist-packages/tensorflow/python/client/session.py\u001b[0m in \u001b[0;36m__call__\u001b[0;34m(self, *args, **kwargs)\u001b[0m\n\u001b[1;32m   1437\u001b[0m           ret = tf_session.TF_SessionRunCallable(\n\u001b[1;32m   1438\u001b[0m               \u001b[0mself\u001b[0m\u001b[0;34m.\u001b[0m\u001b[0m_session\u001b[0m\u001b[0;34m.\u001b[0m\u001b[0m_session\u001b[0m\u001b[0;34m,\u001b[0m \u001b[0mself\u001b[0m\u001b[0;34m.\u001b[0m\u001b[0m_handle\u001b[0m\u001b[0;34m,\u001b[0m \u001b[0margs\u001b[0m\u001b[0;34m,\u001b[0m \u001b[0mstatus\u001b[0m\u001b[0;34m,\u001b[0m\u001b[0;34m\u001b[0m\u001b[0;34m\u001b[0m\u001b[0m\n\u001b[0;32m-> 1439\u001b[0;31m               run_metadata_ptr)\n\u001b[0m\u001b[1;32m   1440\u001b[0m         \u001b[0;32mif\u001b[0m \u001b[0mrun_metadata\u001b[0m\u001b[0;34m:\u001b[0m\u001b[0;34m\u001b[0m\u001b[0;34m\u001b[0m\u001b[0m\n\u001b[1;32m   1441\u001b[0m           \u001b[0mproto_data\u001b[0m \u001b[0;34m=\u001b[0m \u001b[0mtf_session\u001b[0m\u001b[0;34m.\u001b[0m\u001b[0mTF_GetBuffer\u001b[0m\u001b[0;34m(\u001b[0m\u001b[0mrun_metadata_ptr\u001b[0m\u001b[0;34m)\u001b[0m\u001b[0;34m\u001b[0m\u001b[0;34m\u001b[0m\u001b[0m\n",
            "\u001b[0;31mKeyboardInterrupt\u001b[0m: "
          ]
        }
      ]
    },
    {
      "metadata": {
        "id": "1lhROAv3_HJV",
        "colab_type": "code",
        "colab": {}
      },
      "cell_type": "code",
      "source": [
        ""
      ],
      "execution_count": 0,
      "outputs": []
    },
    {
      "metadata": {
        "id": "dqlvXabR4Fid",
        "colab_type": "code",
        "colab": {}
      },
      "cell_type": "code",
      "source": [
        "print(TR[0])"
      ],
      "execution_count": 0,
      "outputs": []
    },
    {
      "metadata": {
        "id": "QdQXu3WUIah9",
        "colab_type": "code",
        "colab": {}
      },
      "cell_type": "code",
      "source": [
        ""
      ],
      "execution_count": 0,
      "outputs": []
    },
    {
      "metadata": {
        "id": "3kn7LQVDT5yl",
        "colab_type": "code",
        "colab": {}
      },
      "cell_type": "code",
      "source": [
        "model.compile(optimizer='adam', \n",
        "              loss='sparse_categorical_crossentropy', \n",
        "              metrics=['accuracy'])\n",
        "H[0] = model.fit(x=x_train,y=y_train, epochs=30)"
      ],
      "execution_count": 0,
      "outputs": []
    },
    {
      "metadata": {
        "id": "3JuXOKPzxzJQ",
        "colab_type": "code",
        "colab": {}
      },
      "cell_type": "code",
      "source": [
        "from google.colab import drive\n",
        "drive.mount('/content/gdrive')"
      ],
      "execution_count": 0,
      "outputs": []
    },
    {
      "metadata": {
        "id": "4wWFpptH6loX",
        "colab_type": "code",
        "colab": {}
      },
      "cell_type": "code",
      "source": [
        "# plot metrics\n",
        "pyplot.plot(H[0].history['loss'], 'r', label='ReLU')\n",
        "pyplot.plot(H[1].history['loss'], 'b', label='OscReLU(0.5,0)')\n",
        "pyplot.plot(H[2].history['loss'], 'g', label='DOscReLU(0.5,0,1)')\n",
        "pyplot.plot(H[3].history['loss'], 'c', label='Swish')\n",
        "pyplot.plot(H[4].history['loss'], 'm', label='Lisht')\n",
        "pyplot.plot(H[5].history['loss'], 'y', label='OscReLU(0.5,0.5)')\n",
        "pyplot.plot(H[6].history['loss'], 'k', label='DOscReLU(0.5,0.5,1)')\n",
        "pyplot.legend(loc='upper right')\n",
        "from google.colab import files\n",
        "plt.savefig(\"MNIST_CNN_LOSS 30_IT.png\")\n",
        "files.download(\"MNIST_CNN_LOSS 30_IT.png\") \n"
      ],
      "execution_count": 0,
      "outputs": []
    },
    {
      "metadata": {
        "id": "73fS6Nx7_PRg",
        "colab_type": "text"
      },
      "cell_type": "markdown",
      "source": [
        ""
      ]
    },
    {
      "metadata": {
        "id": "vSaqYh8Zjs4u",
        "colab_type": "code",
        "colab": {}
      },
      "cell_type": "code",
      "source": [
        "# plot metrics\n",
        "pyplot.plot(H[0].history['acc'], 'r', label='ReLU')\n",
        "pyplot.plot(H[1].history['acc'], 'b', label='OscReLU(0.5,0)')\n",
        "pyplot.plot(H[2].history['acc'], 'g', label='DOscReLU(0.5,0,1)')\n",
        "pyplot.plot(H[3].history['acc'], 'c', label='Swish')\n",
        "pyplot.plot(H[4].history['acc'], 'm', label='Lisht')\n",
        "pyplot.plot(H[5].history['acc'], 'y', label='OscReLU(0.5,0.5)')\n",
        "pyplot.plot(H[6].history['acc'], 'k', label='DOscReLU(0.5,0.5,1)')\n",
        "pyplot.legend(loc='lower right')\n",
        "from google.colab import files\n",
        "plt.savefig(\"MNIST_CNN_ACC 30_IT.png\")\n",
        "files.download(\"MNIST_CNN_ACC 30_IT.png\") \n"
      ],
      "execution_count": 0,
      "outputs": []
    },
    {
      "metadata": {
        "id": "2isF9dLBkR3R",
        "colab_type": "code",
        "colab": {}
      },
      "cell_type": "code",
      "source": [
        "# plot metrics\n",
        "#print(TR[0][1], 'ReLU')\n",
        "#print(TR[1][1], 'OscReLU(0.5,0)')\n",
        "#print(TR[2][1], 'DOscReLU(0.5,0,1)')\n",
        "#print(TR[3][1], 'Swish')\n",
        "#print(TR[4][1], 'Lisht')\n",
        "#print(TR[5][1], 'OscReLU(0.5,0.5)')\n",
        "#print(TR[6][1], 'DOscReLU(0.5,0.5,1)')\n",
        "\n",
        "print(TR[0][1])\n",
        "print(TR[1][1])\n",
        "print(TR[2][1])\n",
        "print(TR[3][1])\n",
        "print(TR[4][1])\n",
        "print(TR[5][1])\n",
        "print(TR[6][1])\n"
      ],
      "execution_count": 0,
      "outputs": []
    },
    {
      "metadata": {
        "id": "Kw1kTd7hVKap",
        "colab_type": "code",
        "colab": {}
      },
      "cell_type": "code",
      "source": [
        "\n",
        "TR.append(model.evaluate(x_test, y_test))"
      ],
      "execution_count": 0,
      "outputs": []
    },
    {
      "metadata": {
        "id": "mJZ58h6Bd3BW",
        "colab_type": "code",
        "colab": {}
      },
      "cell_type": "code",
      "source": [
        "\n",
        "preds = model.predict(x_test)\n",
        "n_examples = np.random.randint(1, 10000, 10)\n",
        "plt.figure(figsize=(15, 15))\n",
        "for i in range(10):\n",
        "  ax = plt.subplot(2, 10, i + 1)\n",
        "  plt.imshow(x_test[n_examples[i], :, :, 0], cmap='gray')\n",
        "  plt.title(\"Label: {}\\nPredicted:{}\".format(y_test[n_examples[i]], np.argmax(preds[n_examples[i]])))\n",
        "  plt.axis('off')"
      ],
      "execution_count": 0,
      "outputs": []
    },
    {
      "metadata": {
        "id": "5OtxWuPnQtHQ",
        "colab_type": "code",
        "colab": {}
      },
      "cell_type": "code",
      "source": [
        "predictions = []\n",
        "for i in range(preds.shape[0]):\n",
        "  predictions.append(np.argmax(preds[i]))\n",
        "predictions = np.array(predictions)\n",
        "print(\"Classification report for classifier %s:\\n%s\\n\"\n",
        "      % (model, metrics.classification_report(y_test, predictions)))\n",
        "print(metrics.confusion_matrix(y_test, predictions))\n",
        "print(\"Accuracy={}\".format(metrics.accuracy_score(y_test, predictions)))"
      ],
      "execution_count": 0,
      "outputs": []
    },
    {
      "metadata": {
        "id": "JYrTLjAkn9mH",
        "colab_type": "code",
        "colab": {}
      },
      "cell_type": "code",
      "source": [
        "incor = []\n",
        "for i in range(len(y_test)):\n",
        "  label = y_test[i]\n",
        "  pred = np.argmax(preds[i])  \n",
        "  if label != pred:\n",
        "    incor.append(i)\n",
        "incorrect = np.array(incor)\n",
        "\n",
        "print(incorrect.shape[0])\n",
        "n_examples = np.random.randint(1, incorrect.shape[0], 300)\n",
        "\n",
        "plt.figure(figsize=(20, 80))\n",
        "for i in range(incorrect.shape[0]):\n",
        "  ax = plt.subplot(30, 10, i + 1)\n",
        "  plt.imshow(x_test[incorrect[i], :, :, 0], cmap='gray')\n",
        "  plt.title(\"Label: {}\\nPredicted:{}\".format(y_test[incorrect[i]], np.argmax(preds[incorrect[i]])))\n",
        "  plt.axis('off')"
      ],
      "execution_count": 0,
      "outputs": []
    }
  ]
}